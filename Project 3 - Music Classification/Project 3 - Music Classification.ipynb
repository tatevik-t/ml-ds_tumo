{
 "cells": [
  {
   "cell_type": "markdown",
   "metadata": {},
   "source": [
    "# Music Classification\n",
    "We will build a classifier that guesses whether a song is Hip-Hop or Country, using only the numbers of times words appear in the song. We will use <b>k-nearest-neighbors classifier</b> and test the classifier on our data."
   ]
  },
  {
   "cell_type": "code",
   "execution_count": 1,
   "metadata": {},
   "outputs": [],
   "source": [
    "import numpy as np\n",
    "import math\n",
    "import pandas as pd\n",
    "import seaborn as sns\n",
    "\n",
    "# These lines set up the plotting functionality and formatting.\n",
    "import matplotlib\n",
    "matplotlib.use('Agg', warn=False)\n",
    "%matplotlib inline\n",
    "import matplotlib.pyplot as plt\n",
    "plt.style.use('fivethirtyeight')\n",
    "import warnings\n",
    "warnings.simplefilter(action=\"ignore\", category=FutureWarning)"
   ]
  },
  {
   "cell_type": "markdown",
   "metadata": {},
   "source": [
    "## Predicting whether a user will like a song"
   ]
  },
  {
   "cell_type": "markdown",
   "metadata": {},
   "source": [
    "First, we will try to understand what features distinguish a song that we like from the one that we dislike. Let's load the data and explore it."
   ]
  },
  {
   "cell_type": "code",
   "execution_count": 2,
   "metadata": {},
   "outputs": [],
   "source": [
    "liked = pd.read_excel('LIKES.xlsx')\n",
    "disliked = pd.read_excel('DISLIKES.xlsx')"
   ]
  },
  {
   "cell_type": "markdown",
   "metadata": {},
   "source": [
    "Using **dropna()** function, we drop the rows from the tables that have missing values."
   ]
  },
  {
   "cell_type": "code",
   "execution_count": 3,
   "metadata": {},
   "outputs": [],
   "source": [
    "liked = liked.dropna()\n",
    "disliked = disliked.dropna()"
   ]
  },
  {
   "cell_type": "markdown",
   "metadata": {},
   "source": [
    "Here we reset the index so that the dataframes are nicer to work with. We also rename some of the columns."
   ]
  },
  {
   "cell_type": "code",
   "execution_count": 4,
   "metadata": {},
   "outputs": [],
   "source": [
    "liked = liked.reset_index(drop=True).rename(columns={\"POP.\": \"POPULARITY\"})\n",
    "disliked = disliked.reset_index(drop=True).rename(columns={\"POP.\": \"POPULARITY\"})"
   ]
  },
  {
   "cell_type": "markdown",
   "metadata": {},
   "source": [
    "Look at the RELEASE column. It contains strings that we can convert to a \"YEAR\" column which can be useful to us."
   ]
  },
  {
   "cell_type": "code",
   "execution_count": 5,
   "metadata": {},
   "outputs": [],
   "source": [
    "liked['YEAR'] = liked['RELEASE'].astype(str).str[0:4]\n",
    "liked['YEAR'] = liked['YEAR'].convert_objects(convert_numeric=True)\n",
    "\n",
    "disliked['YEAR'] = disliked['RELEASE'].astype(str).str[0:4]\n",
    "disliked['YEAR'] = disliked['YEAR'].convert_objects(convert_numeric=True)"
   ]
  },
  {
   "cell_type": "code",
   "execution_count": 6,
   "metadata": {},
   "outputs": [
    {
     "data": {
      "text/html": [
       "<div>\n",
       "<style scoped>\n",
       "    .dataframe tbody tr th:only-of-type {\n",
       "        vertical-align: middle;\n",
       "    }\n",
       "\n",
       "    .dataframe tbody tr th {\n",
       "        vertical-align: top;\n",
       "    }\n",
       "\n",
       "    .dataframe thead th {\n",
       "        text-align: right;\n",
       "    }\n",
       "</style>\n",
       "<table border=\"1\" class=\"dataframe\">\n",
       "  <thead>\n",
       "    <tr style=\"text-align: right;\">\n",
       "      <th></th>\n",
       "      <th>TITLE</th>\n",
       "      <th>ARTIST</th>\n",
       "      <th>RELEASE</th>\n",
       "      <th>BPM</th>\n",
       "      <th>ENERGY</th>\n",
       "      <th>DANCE</th>\n",
       "      <th>LOUD</th>\n",
       "      <th>VALENCE</th>\n",
       "      <th>LENGTH</th>\n",
       "      <th>ACOUSTIC</th>\n",
       "      <th>POPULARITY</th>\n",
       "      <th>YEAR</th>\n",
       "    </tr>\n",
       "  </thead>\n",
       "  <tbody>\n",
       "    <tr>\n",
       "      <th>0</th>\n",
       "      <td>Where Is My Mind?</td>\n",
       "      <td>Pixies</td>\n",
       "      <td>2004-05-03 00:00:00</td>\n",
       "      <td>81.0</td>\n",
       "      <td>44.0</td>\n",
       "      <td>51.0</td>\n",
       "      <td>-14.0</td>\n",
       "      <td>24.0</td>\n",
       "      <td>03:49:00</td>\n",
       "      <td>1.0</td>\n",
       "      <td>35.0</td>\n",
       "      <td>2004</td>\n",
       "    </tr>\n",
       "    <tr>\n",
       "      <th>1</th>\n",
       "      <td>Give Me Nurture</td>\n",
       "      <td>rei brown</td>\n",
       "      <td>2016-11-18 00:00:00</td>\n",
       "      <td>97.0</td>\n",
       "      <td>34.0</td>\n",
       "      <td>65.0</td>\n",
       "      <td>-5.0</td>\n",
       "      <td>7.0</td>\n",
       "      <td>01:29:00</td>\n",
       "      <td>88.0</td>\n",
       "      <td>33.0</td>\n",
       "      <td>2016</td>\n",
       "    </tr>\n",
       "    <tr>\n",
       "      <th>2</th>\n",
       "      <td>Lullaby</td>\n",
       "      <td>Atlas Bound</td>\n",
       "      <td>2016-05-13 00:00:00</td>\n",
       "      <td>73.0</td>\n",
       "      <td>38.0</td>\n",
       "      <td>73.0</td>\n",
       "      <td>-9.0</td>\n",
       "      <td>17.0</td>\n",
       "      <td>03:40:00</td>\n",
       "      <td>38.0</td>\n",
       "      <td>56.0</td>\n",
       "      <td>2016</td>\n",
       "    </tr>\n",
       "    <tr>\n",
       "      <th>3</th>\n",
       "      <td>Warm On A Cold Night</td>\n",
       "      <td>HONNE</td>\n",
       "      <td>2016-07-13 00:00:00</td>\n",
       "      <td>83.0</td>\n",
       "      <td>61.0</td>\n",
       "      <td>34.0</td>\n",
       "      <td>-6.0</td>\n",
       "      <td>39.0</td>\n",
       "      <td>04:22:00</td>\n",
       "      <td>19.0</td>\n",
       "      <td>63.0</td>\n",
       "      <td>2016</td>\n",
       "    </tr>\n",
       "    <tr>\n",
       "      <th>4</th>\n",
       "      <td>Release You</td>\n",
       "      <td>Tom Misch</td>\n",
       "      <td>2014-12-08 00:00:00</td>\n",
       "      <td>120.0</td>\n",
       "      <td>36.0</td>\n",
       "      <td>54.0</td>\n",
       "      <td>-13.0</td>\n",
       "      <td>20.0</td>\n",
       "      <td>03:53:00</td>\n",
       "      <td>33.0</td>\n",
       "      <td>53.0</td>\n",
       "      <td>2014</td>\n",
       "    </tr>\n",
       "  </tbody>\n",
       "</table>\n",
       "</div>"
      ],
      "text/plain": [
       "                  TITLE       ARTIST              RELEASE    BPM  ENERGY  \\\n",
       "0     Where Is My Mind?       Pixies  2004-05-03 00:00:00   81.0    44.0   \n",
       "1       Give Me Nurture    rei brown  2016-11-18 00:00:00   97.0    34.0   \n",
       "2               Lullaby  Atlas Bound  2016-05-13 00:00:00   73.0    38.0   \n",
       "3  Warm On A Cold Night        HONNE  2016-07-13 00:00:00   83.0    61.0   \n",
       "4           Release You    Tom Misch  2014-12-08 00:00:00  120.0    36.0   \n",
       "\n",
       "   DANCE  LOUD  VALENCE    LENGTH  ACOUSTIC  POPULARITY  YEAR  \n",
       "0   51.0 -14.0     24.0  03:49:00       1.0        35.0  2004  \n",
       "1   65.0  -5.0      7.0  01:29:00      88.0        33.0  2016  \n",
       "2   73.0  -9.0     17.0  03:40:00      38.0        56.0  2016  \n",
       "3   34.0  -6.0     39.0  04:22:00      19.0        63.0  2016  \n",
       "4   54.0 -13.0     20.0  03:53:00      33.0        53.0  2014  "
      ]
     },
     "execution_count": 6,
     "metadata": {},
     "output_type": "execute_result"
    }
   ],
   "source": [
    "liked.head()"
   ]
  },
  {
   "cell_type": "code",
   "execution_count": 7,
   "metadata": {},
   "outputs": [
    {
     "data": {
      "text/html": [
       "<div>\n",
       "<style scoped>\n",
       "    .dataframe tbody tr th:only-of-type {\n",
       "        vertical-align: middle;\n",
       "    }\n",
       "\n",
       "    .dataframe tbody tr th {\n",
       "        vertical-align: top;\n",
       "    }\n",
       "\n",
       "    .dataframe thead th {\n",
       "        text-align: right;\n",
       "    }\n",
       "</style>\n",
       "<table border=\"1\" class=\"dataframe\">\n",
       "  <thead>\n",
       "    <tr style=\"text-align: right;\">\n",
       "      <th></th>\n",
       "      <th>TITLE</th>\n",
       "      <th>ARTIST</th>\n",
       "      <th>RELEASE</th>\n",
       "      <th>BPM</th>\n",
       "      <th>ENERGY</th>\n",
       "      <th>DANCE</th>\n",
       "      <th>LOUD</th>\n",
       "      <th>VALENCE</th>\n",
       "      <th>LENGTH</th>\n",
       "      <th>ACOUSTIC</th>\n",
       "      <th>POPULARITY</th>\n",
       "      <th>YEAR</th>\n",
       "    </tr>\n",
       "  </thead>\n",
       "  <tbody>\n",
       "    <tr>\n",
       "      <th>0</th>\n",
       "      <td>With You I Am</td>\n",
       "      <td>Cody Johnson</td>\n",
       "      <td>2016-08-05 00:00:00</td>\n",
       "      <td>75.0</td>\n",
       "      <td>67.0</td>\n",
       "      <td>56.0</td>\n",
       "      <td>-6.0</td>\n",
       "      <td>40.0</td>\n",
       "      <td>03:41:00</td>\n",
       "      <td>40.0</td>\n",
       "      <td>65.0</td>\n",
       "      <td>2016</td>\n",
       "    </tr>\n",
       "    <tr>\n",
       "      <th>1</th>\n",
       "      <td>Somewhere Down in Texas</td>\n",
       "      <td>Jason Boland</td>\n",
       "      <td>2001</td>\n",
       "      <td>72.0</td>\n",
       "      <td>49.0</td>\n",
       "      <td>48.0</td>\n",
       "      <td>-11.0</td>\n",
       "      <td>50.0</td>\n",
       "      <td>05:52:00</td>\n",
       "      <td>14.0</td>\n",
       "      <td>5.0</td>\n",
       "      <td>2001</td>\n",
       "    </tr>\n",
       "    <tr>\n",
       "      <th>2</th>\n",
       "      <td>Rescue</td>\n",
       "      <td>Hunter Hayes</td>\n",
       "      <td>2017-06-29 00:00:00</td>\n",
       "      <td>90.0</td>\n",
       "      <td>79.0</td>\n",
       "      <td>52.0</td>\n",
       "      <td>-3.0</td>\n",
       "      <td>30.0</td>\n",
       "      <td>03:37:00</td>\n",
       "      <td>29.0</td>\n",
       "      <td>74.0</td>\n",
       "      <td>2017</td>\n",
       "    </tr>\n",
       "    <tr>\n",
       "      <th>3</th>\n",
       "      <td>Five More Minutes</td>\n",
       "      <td>Scotty McCreery</td>\n",
       "      <td>2017-05-05 00:00:00</td>\n",
       "      <td>156.0</td>\n",
       "      <td>65.0</td>\n",
       "      <td>52.0</td>\n",
       "      <td>-6.0</td>\n",
       "      <td>31.0</td>\n",
       "      <td>03:59:00</td>\n",
       "      <td>33.0</td>\n",
       "      <td>72.0</td>\n",
       "      <td>2017</td>\n",
       "    </tr>\n",
       "    <tr>\n",
       "      <th>4</th>\n",
       "      <td>Singles You Up</td>\n",
       "      <td>Jordan Davis</td>\n",
       "      <td>2017-05-26 00:00:00</td>\n",
       "      <td>200.0</td>\n",
       "      <td>90.0</td>\n",
       "      <td>49.0</td>\n",
       "      <td>-4.0</td>\n",
       "      <td>59.0</td>\n",
       "      <td>03:03:00</td>\n",
       "      <td>4.0</td>\n",
       "      <td>76.0</td>\n",
       "      <td>2017</td>\n",
       "    </tr>\n",
       "  </tbody>\n",
       "</table>\n",
       "</div>"
      ],
      "text/plain": [
       "                     TITLE           ARTIST              RELEASE    BPM  \\\n",
       "0            With You I Am     Cody Johnson  2016-08-05 00:00:00   75.0   \n",
       "1  Somewhere Down in Texas     Jason Boland                 2001   72.0   \n",
       "2                   Rescue     Hunter Hayes  2017-06-29 00:00:00   90.0   \n",
       "3        Five More Minutes  Scotty McCreery  2017-05-05 00:00:00  156.0   \n",
       "4           Singles You Up     Jordan Davis  2017-05-26 00:00:00  200.0   \n",
       "\n",
       "   ENERGY  DANCE  LOUD  VALENCE    LENGTH  ACOUSTIC  POPULARITY  YEAR  \n",
       "0    67.0   56.0  -6.0     40.0  03:41:00      40.0        65.0  2016  \n",
       "1    49.0   48.0 -11.0     50.0  05:52:00      14.0         5.0  2001  \n",
       "2    79.0   52.0  -3.0     30.0  03:37:00      29.0        74.0  2017  \n",
       "3    65.0   52.0  -6.0     31.0  03:59:00      33.0        72.0  2017  \n",
       "4    90.0   49.0  -4.0     59.0  03:03:00       4.0        76.0  2017  "
      ]
     },
     "execution_count": 7,
     "metadata": {},
     "output_type": "execute_result"
    }
   ],
   "source": [
    "disliked.head()"
   ]
  },
  {
   "cell_type": "markdown",
   "metadata": {},
   "source": [
    "Using the code above as an example and the \"LENGTH\" column, we create a column \"MINUTES\" and a column \"SECONDS\"."
   ]
  },
  {
   "cell_type": "code",
   "execution_count": 8,
   "metadata": {},
   "outputs": [],
   "source": [
    "liked[\"MINUTES\"] = liked[\"LENGTH\"].astype(str).str[0:2]\n",
    "liked[\"MINUTES\"] = liked[\"MINUTES\"].convert_objects(convert_numeric=True)\n",
    "\n",
    "disliked[\"MINUTES\"] = disliked[\"LENGTH\"].astype(str).str[0:2]\n",
    "disliked[\"MINUTES\"] = disliked[\"MINUTES\"].convert_objects(convert_numeric=True)\n",
    "\n",
    "liked[\"SECONDS\"] = liked[\"LENGTH\"].astype(str).str[3:5]\n",
    "liked[\"SECONDS\"] = liked[\"SECONDS\"].convert_objects(convert_numeric=True)\n",
    "\n",
    "disliked[\"SECONDS\"] = disliked[\"LENGTH\"].astype(str).str[3:5]\n",
    "disliked[\"SECONDS\"] = disliked[\"SECONDS\"].convert_objects(convert_numeric=True)"
   ]
  },
  {
   "cell_type": "code",
   "execution_count": 9,
   "metadata": {},
   "outputs": [
    {
     "data": {
      "text/html": [
       "<div>\n",
       "<style scoped>\n",
       "    .dataframe tbody tr th:only-of-type {\n",
       "        vertical-align: middle;\n",
       "    }\n",
       "\n",
       "    .dataframe tbody tr th {\n",
       "        vertical-align: top;\n",
       "    }\n",
       "\n",
       "    .dataframe thead th {\n",
       "        text-align: right;\n",
       "    }\n",
       "</style>\n",
       "<table border=\"1\" class=\"dataframe\">\n",
       "  <thead>\n",
       "    <tr style=\"text-align: right;\">\n",
       "      <th></th>\n",
       "      <th>TITLE</th>\n",
       "      <th>ARTIST</th>\n",
       "      <th>RELEASE</th>\n",
       "      <th>BPM</th>\n",
       "      <th>ENERGY</th>\n",
       "      <th>DANCE</th>\n",
       "      <th>LOUD</th>\n",
       "      <th>VALENCE</th>\n",
       "      <th>LENGTH</th>\n",
       "      <th>ACOUSTIC</th>\n",
       "      <th>POPULARITY</th>\n",
       "      <th>YEAR</th>\n",
       "      <th>MINUTES</th>\n",
       "      <th>SECONDS</th>\n",
       "    </tr>\n",
       "  </thead>\n",
       "  <tbody>\n",
       "    <tr>\n",
       "      <th>0</th>\n",
       "      <td>Where Is My Mind?</td>\n",
       "      <td>Pixies</td>\n",
       "      <td>2004-05-03 00:00:00</td>\n",
       "      <td>81.0</td>\n",
       "      <td>44.0</td>\n",
       "      <td>51.0</td>\n",
       "      <td>-14.0</td>\n",
       "      <td>24.0</td>\n",
       "      <td>03:49:00</td>\n",
       "      <td>1.0</td>\n",
       "      <td>35.0</td>\n",
       "      <td>2004</td>\n",
       "      <td>3</td>\n",
       "      <td>49</td>\n",
       "    </tr>\n",
       "    <tr>\n",
       "      <th>1</th>\n",
       "      <td>Give Me Nurture</td>\n",
       "      <td>rei brown</td>\n",
       "      <td>2016-11-18 00:00:00</td>\n",
       "      <td>97.0</td>\n",
       "      <td>34.0</td>\n",
       "      <td>65.0</td>\n",
       "      <td>-5.0</td>\n",
       "      <td>7.0</td>\n",
       "      <td>01:29:00</td>\n",
       "      <td>88.0</td>\n",
       "      <td>33.0</td>\n",
       "      <td>2016</td>\n",
       "      <td>1</td>\n",
       "      <td>29</td>\n",
       "    </tr>\n",
       "    <tr>\n",
       "      <th>2</th>\n",
       "      <td>Lullaby</td>\n",
       "      <td>Atlas Bound</td>\n",
       "      <td>2016-05-13 00:00:00</td>\n",
       "      <td>73.0</td>\n",
       "      <td>38.0</td>\n",
       "      <td>73.0</td>\n",
       "      <td>-9.0</td>\n",
       "      <td>17.0</td>\n",
       "      <td>03:40:00</td>\n",
       "      <td>38.0</td>\n",
       "      <td>56.0</td>\n",
       "      <td>2016</td>\n",
       "      <td>3</td>\n",
       "      <td>40</td>\n",
       "    </tr>\n",
       "    <tr>\n",
       "      <th>3</th>\n",
       "      <td>Warm On A Cold Night</td>\n",
       "      <td>HONNE</td>\n",
       "      <td>2016-07-13 00:00:00</td>\n",
       "      <td>83.0</td>\n",
       "      <td>61.0</td>\n",
       "      <td>34.0</td>\n",
       "      <td>-6.0</td>\n",
       "      <td>39.0</td>\n",
       "      <td>04:22:00</td>\n",
       "      <td>19.0</td>\n",
       "      <td>63.0</td>\n",
       "      <td>2016</td>\n",
       "      <td>4</td>\n",
       "      <td>22</td>\n",
       "    </tr>\n",
       "    <tr>\n",
       "      <th>4</th>\n",
       "      <td>Release You</td>\n",
       "      <td>Tom Misch</td>\n",
       "      <td>2014-12-08 00:00:00</td>\n",
       "      <td>120.0</td>\n",
       "      <td>36.0</td>\n",
       "      <td>54.0</td>\n",
       "      <td>-13.0</td>\n",
       "      <td>20.0</td>\n",
       "      <td>03:53:00</td>\n",
       "      <td>33.0</td>\n",
       "      <td>53.0</td>\n",
       "      <td>2014</td>\n",
       "      <td>3</td>\n",
       "      <td>53</td>\n",
       "    </tr>\n",
       "  </tbody>\n",
       "</table>\n",
       "</div>"
      ],
      "text/plain": [
       "                  TITLE       ARTIST              RELEASE    BPM  ENERGY  \\\n",
       "0     Where Is My Mind?       Pixies  2004-05-03 00:00:00   81.0    44.0   \n",
       "1       Give Me Nurture    rei brown  2016-11-18 00:00:00   97.0    34.0   \n",
       "2               Lullaby  Atlas Bound  2016-05-13 00:00:00   73.0    38.0   \n",
       "3  Warm On A Cold Night        HONNE  2016-07-13 00:00:00   83.0    61.0   \n",
       "4           Release You    Tom Misch  2014-12-08 00:00:00  120.0    36.0   \n",
       "\n",
       "   DANCE  LOUD  VALENCE    LENGTH  ACOUSTIC  POPULARITY  YEAR  MINUTES  \\\n",
       "0   51.0 -14.0     24.0  03:49:00       1.0        35.0  2004        3   \n",
       "1   65.0  -5.0      7.0  01:29:00      88.0        33.0  2016        1   \n",
       "2   73.0  -9.0     17.0  03:40:00      38.0        56.0  2016        3   \n",
       "3   34.0  -6.0     39.0  04:22:00      19.0        63.0  2016        4   \n",
       "4   54.0 -13.0     20.0  03:53:00      33.0        53.0  2014        3   \n",
       "\n",
       "   SECONDS  \n",
       "0       49  \n",
       "1       29  \n",
       "2       40  \n",
       "3       22  \n",
       "4       53  "
      ]
     },
     "execution_count": 9,
     "metadata": {},
     "output_type": "execute_result"
    }
   ],
   "source": [
    "liked.head()"
   ]
  },
  {
   "cell_type": "code",
   "execution_count": 10,
   "metadata": {},
   "outputs": [
    {
     "data": {
      "text/html": [
       "<div>\n",
       "<style scoped>\n",
       "    .dataframe tbody tr th:only-of-type {\n",
       "        vertical-align: middle;\n",
       "    }\n",
       "\n",
       "    .dataframe tbody tr th {\n",
       "        vertical-align: top;\n",
       "    }\n",
       "\n",
       "    .dataframe thead th {\n",
       "        text-align: right;\n",
       "    }\n",
       "</style>\n",
       "<table border=\"1\" class=\"dataframe\">\n",
       "  <thead>\n",
       "    <tr style=\"text-align: right;\">\n",
       "      <th></th>\n",
       "      <th>TITLE</th>\n",
       "      <th>ARTIST</th>\n",
       "      <th>RELEASE</th>\n",
       "      <th>BPM</th>\n",
       "      <th>ENERGY</th>\n",
       "      <th>DANCE</th>\n",
       "      <th>LOUD</th>\n",
       "      <th>VALENCE</th>\n",
       "      <th>LENGTH</th>\n",
       "      <th>ACOUSTIC</th>\n",
       "      <th>POPULARITY</th>\n",
       "      <th>YEAR</th>\n",
       "      <th>MINUTES</th>\n",
       "      <th>SECONDS</th>\n",
       "    </tr>\n",
       "  </thead>\n",
       "  <tbody>\n",
       "    <tr>\n",
       "      <th>0</th>\n",
       "      <td>With You I Am</td>\n",
       "      <td>Cody Johnson</td>\n",
       "      <td>2016-08-05 00:00:00</td>\n",
       "      <td>75.0</td>\n",
       "      <td>67.0</td>\n",
       "      <td>56.0</td>\n",
       "      <td>-6.0</td>\n",
       "      <td>40.0</td>\n",
       "      <td>03:41:00</td>\n",
       "      <td>40.0</td>\n",
       "      <td>65.0</td>\n",
       "      <td>2016</td>\n",
       "      <td>3</td>\n",
       "      <td>41</td>\n",
       "    </tr>\n",
       "    <tr>\n",
       "      <th>1</th>\n",
       "      <td>Somewhere Down in Texas</td>\n",
       "      <td>Jason Boland</td>\n",
       "      <td>2001</td>\n",
       "      <td>72.0</td>\n",
       "      <td>49.0</td>\n",
       "      <td>48.0</td>\n",
       "      <td>-11.0</td>\n",
       "      <td>50.0</td>\n",
       "      <td>05:52:00</td>\n",
       "      <td>14.0</td>\n",
       "      <td>5.0</td>\n",
       "      <td>2001</td>\n",
       "      <td>5</td>\n",
       "      <td>52</td>\n",
       "    </tr>\n",
       "    <tr>\n",
       "      <th>2</th>\n",
       "      <td>Rescue</td>\n",
       "      <td>Hunter Hayes</td>\n",
       "      <td>2017-06-29 00:00:00</td>\n",
       "      <td>90.0</td>\n",
       "      <td>79.0</td>\n",
       "      <td>52.0</td>\n",
       "      <td>-3.0</td>\n",
       "      <td>30.0</td>\n",
       "      <td>03:37:00</td>\n",
       "      <td>29.0</td>\n",
       "      <td>74.0</td>\n",
       "      <td>2017</td>\n",
       "      <td>3</td>\n",
       "      <td>37</td>\n",
       "    </tr>\n",
       "    <tr>\n",
       "      <th>3</th>\n",
       "      <td>Five More Minutes</td>\n",
       "      <td>Scotty McCreery</td>\n",
       "      <td>2017-05-05 00:00:00</td>\n",
       "      <td>156.0</td>\n",
       "      <td>65.0</td>\n",
       "      <td>52.0</td>\n",
       "      <td>-6.0</td>\n",
       "      <td>31.0</td>\n",
       "      <td>03:59:00</td>\n",
       "      <td>33.0</td>\n",
       "      <td>72.0</td>\n",
       "      <td>2017</td>\n",
       "      <td>3</td>\n",
       "      <td>59</td>\n",
       "    </tr>\n",
       "    <tr>\n",
       "      <th>4</th>\n",
       "      <td>Singles You Up</td>\n",
       "      <td>Jordan Davis</td>\n",
       "      <td>2017-05-26 00:00:00</td>\n",
       "      <td>200.0</td>\n",
       "      <td>90.0</td>\n",
       "      <td>49.0</td>\n",
       "      <td>-4.0</td>\n",
       "      <td>59.0</td>\n",
       "      <td>03:03:00</td>\n",
       "      <td>4.0</td>\n",
       "      <td>76.0</td>\n",
       "      <td>2017</td>\n",
       "      <td>3</td>\n",
       "      <td>3</td>\n",
       "    </tr>\n",
       "  </tbody>\n",
       "</table>\n",
       "</div>"
      ],
      "text/plain": [
       "                     TITLE           ARTIST              RELEASE    BPM  \\\n",
       "0            With You I Am     Cody Johnson  2016-08-05 00:00:00   75.0   \n",
       "1  Somewhere Down in Texas     Jason Boland                 2001   72.0   \n",
       "2                   Rescue     Hunter Hayes  2017-06-29 00:00:00   90.0   \n",
       "3        Five More Minutes  Scotty McCreery  2017-05-05 00:00:00  156.0   \n",
       "4           Singles You Up     Jordan Davis  2017-05-26 00:00:00  200.0   \n",
       "\n",
       "   ENERGY  DANCE  LOUD  VALENCE    LENGTH  ACOUSTIC  POPULARITY  YEAR  \\\n",
       "0    67.0   56.0  -6.0     40.0  03:41:00      40.0        65.0  2016   \n",
       "1    49.0   48.0 -11.0     50.0  05:52:00      14.0         5.0  2001   \n",
       "2    79.0   52.0  -3.0     30.0  03:37:00      29.0        74.0  2017   \n",
       "3    65.0   52.0  -6.0     31.0  03:59:00      33.0        72.0  2017   \n",
       "4    90.0   49.0  -4.0     59.0  03:03:00       4.0        76.0  2017   \n",
       "\n",
       "   MINUTES  SECONDS  \n",
       "0        3       41  \n",
       "1        5       52  \n",
       "2        3       37  \n",
       "3        3       59  \n",
       "4        3        3  "
      ]
     },
     "execution_count": 10,
     "metadata": {},
     "output_type": "execute_result"
    }
   ],
   "source": [
    "disliked.head()"
   ]
  },
  {
   "cell_type": "markdown",
   "metadata": {},
   "source": [
    "We create a column called \"DURATION\" from columns MINUTES AND SECONDS. Finally, we drop LENGTH, MINUTES, SECONDS and RELEASE columns."
   ]
  },
  {
   "cell_type": "code",
   "execution_count": 11,
   "metadata": {},
   "outputs": [],
   "source": [
    "liked[\"DURATION\"]=liked[\"MINUTES\"]*60+liked[\"SECONDS\"]\n",
    "disliked[\"DURATION\"]=disliked[\"MINUTES\"]*60+disliked[\"SECONDS\"]\n",
    "\n",
    "liked=liked.drop([\"LENGTH\",\"MINUTES\",\"SECONDS\",\"RELEASE\"], axis=1)\n",
    "disliked=disliked.drop([\"LENGTH\",\"MINUTES\",\"SECONDS\",\"RELEASE\"], axis=1)"
   ]
  },
  {
   "cell_type": "code",
   "execution_count": 12,
   "metadata": {},
   "outputs": [
    {
     "data": {
      "text/html": [
       "<div>\n",
       "<style scoped>\n",
       "    .dataframe tbody tr th:only-of-type {\n",
       "        vertical-align: middle;\n",
       "    }\n",
       "\n",
       "    .dataframe tbody tr th {\n",
       "        vertical-align: top;\n",
       "    }\n",
       "\n",
       "    .dataframe thead th {\n",
       "        text-align: right;\n",
       "    }\n",
       "</style>\n",
       "<table border=\"1\" class=\"dataframe\">\n",
       "  <thead>\n",
       "    <tr style=\"text-align: right;\">\n",
       "      <th></th>\n",
       "      <th>TITLE</th>\n",
       "      <th>ARTIST</th>\n",
       "      <th>BPM</th>\n",
       "      <th>ENERGY</th>\n",
       "      <th>DANCE</th>\n",
       "      <th>LOUD</th>\n",
       "      <th>VALENCE</th>\n",
       "      <th>ACOUSTIC</th>\n",
       "      <th>POPULARITY</th>\n",
       "      <th>YEAR</th>\n",
       "      <th>DURATION</th>\n",
       "    </tr>\n",
       "  </thead>\n",
       "  <tbody>\n",
       "    <tr>\n",
       "      <th>0</th>\n",
       "      <td>Where Is My Mind?</td>\n",
       "      <td>Pixies</td>\n",
       "      <td>81.0</td>\n",
       "      <td>44.0</td>\n",
       "      <td>51.0</td>\n",
       "      <td>-14.0</td>\n",
       "      <td>24.0</td>\n",
       "      <td>1.0</td>\n",
       "      <td>35.0</td>\n",
       "      <td>2004</td>\n",
       "      <td>229</td>\n",
       "    </tr>\n",
       "    <tr>\n",
       "      <th>1</th>\n",
       "      <td>Give Me Nurture</td>\n",
       "      <td>rei brown</td>\n",
       "      <td>97.0</td>\n",
       "      <td>34.0</td>\n",
       "      <td>65.0</td>\n",
       "      <td>-5.0</td>\n",
       "      <td>7.0</td>\n",
       "      <td>88.0</td>\n",
       "      <td>33.0</td>\n",
       "      <td>2016</td>\n",
       "      <td>89</td>\n",
       "    </tr>\n",
       "    <tr>\n",
       "      <th>2</th>\n",
       "      <td>Lullaby</td>\n",
       "      <td>Atlas Bound</td>\n",
       "      <td>73.0</td>\n",
       "      <td>38.0</td>\n",
       "      <td>73.0</td>\n",
       "      <td>-9.0</td>\n",
       "      <td>17.0</td>\n",
       "      <td>38.0</td>\n",
       "      <td>56.0</td>\n",
       "      <td>2016</td>\n",
       "      <td>220</td>\n",
       "    </tr>\n",
       "    <tr>\n",
       "      <th>3</th>\n",
       "      <td>Warm On A Cold Night</td>\n",
       "      <td>HONNE</td>\n",
       "      <td>83.0</td>\n",
       "      <td>61.0</td>\n",
       "      <td>34.0</td>\n",
       "      <td>-6.0</td>\n",
       "      <td>39.0</td>\n",
       "      <td>19.0</td>\n",
       "      <td>63.0</td>\n",
       "      <td>2016</td>\n",
       "      <td>262</td>\n",
       "    </tr>\n",
       "    <tr>\n",
       "      <th>4</th>\n",
       "      <td>Release You</td>\n",
       "      <td>Tom Misch</td>\n",
       "      <td>120.0</td>\n",
       "      <td>36.0</td>\n",
       "      <td>54.0</td>\n",
       "      <td>-13.0</td>\n",
       "      <td>20.0</td>\n",
       "      <td>33.0</td>\n",
       "      <td>53.0</td>\n",
       "      <td>2014</td>\n",
       "      <td>233</td>\n",
       "    </tr>\n",
       "  </tbody>\n",
       "</table>\n",
       "</div>"
      ],
      "text/plain": [
       "                  TITLE       ARTIST    BPM  ENERGY  DANCE  LOUD  VALENCE  \\\n",
       "0     Where Is My Mind?       Pixies   81.0    44.0   51.0 -14.0     24.0   \n",
       "1       Give Me Nurture    rei brown   97.0    34.0   65.0  -5.0      7.0   \n",
       "2               Lullaby  Atlas Bound   73.0    38.0   73.0  -9.0     17.0   \n",
       "3  Warm On A Cold Night        HONNE   83.0    61.0   34.0  -6.0     39.0   \n",
       "4           Release You    Tom Misch  120.0    36.0   54.0 -13.0     20.0   \n",
       "\n",
       "   ACOUSTIC  POPULARITY  YEAR  DURATION  \n",
       "0       1.0        35.0  2004       229  \n",
       "1      88.0        33.0  2016        89  \n",
       "2      38.0        56.0  2016       220  \n",
       "3      19.0        63.0  2016       262  \n",
       "4      33.0        53.0  2014       233  "
      ]
     },
     "execution_count": 12,
     "metadata": {},
     "output_type": "execute_result"
    }
   ],
   "source": [
    "liked.head()"
   ]
  },
  {
   "cell_type": "code",
   "execution_count": 13,
   "metadata": {},
   "outputs": [
    {
     "data": {
      "text/html": [
       "<div>\n",
       "<style scoped>\n",
       "    .dataframe tbody tr th:only-of-type {\n",
       "        vertical-align: middle;\n",
       "    }\n",
       "\n",
       "    .dataframe tbody tr th {\n",
       "        vertical-align: top;\n",
       "    }\n",
       "\n",
       "    .dataframe thead th {\n",
       "        text-align: right;\n",
       "    }\n",
       "</style>\n",
       "<table border=\"1\" class=\"dataframe\">\n",
       "  <thead>\n",
       "    <tr style=\"text-align: right;\">\n",
       "      <th></th>\n",
       "      <th>TITLE</th>\n",
       "      <th>ARTIST</th>\n",
       "      <th>BPM</th>\n",
       "      <th>ENERGY</th>\n",
       "      <th>DANCE</th>\n",
       "      <th>LOUD</th>\n",
       "      <th>VALENCE</th>\n",
       "      <th>ACOUSTIC</th>\n",
       "      <th>POPULARITY</th>\n",
       "      <th>YEAR</th>\n",
       "      <th>DURATION</th>\n",
       "    </tr>\n",
       "  </thead>\n",
       "  <tbody>\n",
       "    <tr>\n",
       "      <th>0</th>\n",
       "      <td>With You I Am</td>\n",
       "      <td>Cody Johnson</td>\n",
       "      <td>75.0</td>\n",
       "      <td>67.0</td>\n",
       "      <td>56.0</td>\n",
       "      <td>-6.0</td>\n",
       "      <td>40.0</td>\n",
       "      <td>40.0</td>\n",
       "      <td>65.0</td>\n",
       "      <td>2016</td>\n",
       "      <td>221</td>\n",
       "    </tr>\n",
       "    <tr>\n",
       "      <th>1</th>\n",
       "      <td>Somewhere Down in Texas</td>\n",
       "      <td>Jason Boland</td>\n",
       "      <td>72.0</td>\n",
       "      <td>49.0</td>\n",
       "      <td>48.0</td>\n",
       "      <td>-11.0</td>\n",
       "      <td>50.0</td>\n",
       "      <td>14.0</td>\n",
       "      <td>5.0</td>\n",
       "      <td>2001</td>\n",
       "      <td>352</td>\n",
       "    </tr>\n",
       "    <tr>\n",
       "      <th>2</th>\n",
       "      <td>Rescue</td>\n",
       "      <td>Hunter Hayes</td>\n",
       "      <td>90.0</td>\n",
       "      <td>79.0</td>\n",
       "      <td>52.0</td>\n",
       "      <td>-3.0</td>\n",
       "      <td>30.0</td>\n",
       "      <td>29.0</td>\n",
       "      <td>74.0</td>\n",
       "      <td>2017</td>\n",
       "      <td>217</td>\n",
       "    </tr>\n",
       "    <tr>\n",
       "      <th>3</th>\n",
       "      <td>Five More Minutes</td>\n",
       "      <td>Scotty McCreery</td>\n",
       "      <td>156.0</td>\n",
       "      <td>65.0</td>\n",
       "      <td>52.0</td>\n",
       "      <td>-6.0</td>\n",
       "      <td>31.0</td>\n",
       "      <td>33.0</td>\n",
       "      <td>72.0</td>\n",
       "      <td>2017</td>\n",
       "      <td>239</td>\n",
       "    </tr>\n",
       "    <tr>\n",
       "      <th>4</th>\n",
       "      <td>Singles You Up</td>\n",
       "      <td>Jordan Davis</td>\n",
       "      <td>200.0</td>\n",
       "      <td>90.0</td>\n",
       "      <td>49.0</td>\n",
       "      <td>-4.0</td>\n",
       "      <td>59.0</td>\n",
       "      <td>4.0</td>\n",
       "      <td>76.0</td>\n",
       "      <td>2017</td>\n",
       "      <td>183</td>\n",
       "    </tr>\n",
       "  </tbody>\n",
       "</table>\n",
       "</div>"
      ],
      "text/plain": [
       "                     TITLE           ARTIST    BPM  ENERGY  DANCE  LOUD  \\\n",
       "0            With You I Am     Cody Johnson   75.0    67.0   56.0  -6.0   \n",
       "1  Somewhere Down in Texas     Jason Boland   72.0    49.0   48.0 -11.0   \n",
       "2                   Rescue     Hunter Hayes   90.0    79.0   52.0  -3.0   \n",
       "3        Five More Minutes  Scotty McCreery  156.0    65.0   52.0  -6.0   \n",
       "4           Singles You Up     Jordan Davis  200.0    90.0   49.0  -4.0   \n",
       "\n",
       "   VALENCE  ACOUSTIC  POPULARITY  YEAR  DURATION  \n",
       "0     40.0      40.0        65.0  2016       221  \n",
       "1     50.0      14.0         5.0  2001       352  \n",
       "2     30.0      29.0        74.0  2017       217  \n",
       "3     31.0      33.0        72.0  2017       239  \n",
       "4     59.0       4.0        76.0  2017       183  "
      ]
     },
     "execution_count": 13,
     "metadata": {},
     "output_type": "execute_result"
    }
   ],
   "source": [
    "disliked.head()"
   ]
  },
  {
   "cell_type": "markdown",
   "metadata": {},
   "source": [
    "This is an overlayed histogram \"ENERGY of liked and ENERGY of disliked songs\". We use an alpha = 0.5 to make the histograms transperent."
   ]
  },
  {
   "cell_type": "code",
   "execution_count": 14,
   "metadata": {},
   "outputs": [
    {
     "data": {
      "text/plain": [
       "<matplotlib.legend.Legend at 0x28fcf691208>"
      ]
     },
     "execution_count": 14,
     "metadata": {},
     "output_type": "execute_result"
    },
    {
     "data": {
      "image/png": "[encoded data removed]",
      "text/plain": [
       "<Figure size 432x288 with 1 Axes>"
      ]
     },
     "metadata": {},
     "output_type": "display_data"
    }
   ],
   "source": [
    "plt.hist(liked.ENERGY, label='liked',color=\"c\", edgecolor=\"b\", alpha=0.5)\n",
    "plt.hist(disliked.ENERGY, label='disliked', color=\"violet\", edgecolor=\"b\", alpha=0.5)\n",
    "plt.xlabel('ENERGY', fontsize=18)\n",
    "plt.legend(fontsize=12)"
   ]
  },
  {
   "cell_type": "markdown",
   "metadata": {},
   "source": [
    "We do exact same thing as above for BPM, DANCE, YEAR and DURATION using the **subplot()** function to properly display everything."
   ]
  },
  {
   "cell_type": "code",
   "execution_count": 15,
   "metadata": {},
   "outputs": [
    {
     "data": {
      "text/plain": [
       "<matplotlib.legend.Legend at 0x28fd08fd780>"
      ]
     },
     "execution_count": 15,
     "metadata": {},
     "output_type": "execute_result"
    },
    {
     "data": {
      "image/png": "[encoded data removed]",
      "text/plain": [
       "<Figure size 720x720 with 4 Axes>"
      ]
     },
     "metadata": {},
     "output_type": "display_data"
    }
   ],
   "source": [
    "plt.subplots(2,2,figsize=(10,10))\n",
    "plt.subplot(221)\n",
    "plt.hist(liked[\"BPM\"],label='liked',color=\"c\", edgecolor=\"b\", alpha=0.6)\n",
    "plt.hist(disliked[\"BPM\"], label='disliked', color=\"violet\", edgecolor=\"b\", alpha=0.6)\n",
    "plt.xlabel('BPM', fontsize=18)\n",
    "plt.legend(fontsize=12)\n",
    "\n",
    "plt.subplot(222)\n",
    "plt.hist(liked[\"DANCE\"],label='liked',color=\"c\", edgecolor=\"b\", alpha=0.6)\n",
    "plt.hist(disliked[\"DANCE\"], label='disliked', color=\"violet\", edgecolor=\"b\", alpha=0.6)\n",
    "plt.xlabel('DANCE', fontsize=18)\n",
    "plt.legend(fontsize=12)\n",
    "\n",
    "plt.subplot(223)\n",
    "plt.hist(liked[\"YEAR\"],label='liked',color=\"c\", edgecolor=\"b\", alpha=0.6)\n",
    "plt.hist(disliked[\"YEAR\"], label='disliked', color=\"violet\", edgecolor=\"b\", alpha=0.6)\n",
    "plt.xlabel('YEAR', fontsize=18)\n",
    "plt.legend(fontsize=12)\n",
    "\n",
    "plt.subplot(224)\n",
    "plt.hist(liked[\"DURATION\"],label='liked',color=\"c\", edgecolor=\"b\", alpha=0.6)\n",
    "plt.hist(disliked[\"DURATION\"], label='disliked', color=\"violet\", edgecolor=\"b\", alpha=0.6)\n",
    "plt.xlabel('DURATION', fontsize=18)\n",
    "plt.legend(fontsize=12)"
   ]
  },
  {
   "cell_type": "markdown",
   "metadata": {},
   "source": [
    "We want to check whether there are any outliers using a visualization to spot the outliers."
   ]
  },
  {
   "cell_type": "code",
   "execution_count": 16,
   "metadata": {},
   "outputs": [
    {
     "data": {
      "image/png": "[encoded data removed]",
      "text/plain": [
       "<Figure size 288x288 with 1 Axes>"
      ]
     },
     "metadata": {},
     "output_type": "display_data"
    }
   ],
   "source": [
    "sns.factorplot(x='YEAR', data=liked, kind='box')\n",
    "plt.show()"
   ]
  },
  {
   "cell_type": "markdown",
   "metadata": {},
   "source": [
    "Let's remove that one song in liked dataset that was released before 1980."
   ]
  },
  {
   "cell_type": "code",
   "execution_count": 17,
   "metadata": {},
   "outputs": [],
   "source": [
    "liked=liked[liked['YEAR']>1980]"
   ]
  },
  {
   "cell_type": "markdown",
   "metadata": {},
   "source": [
    "To make a model for predicting liked vs disliked songs we need to combine the two dataframes we have."
   ]
  },
  {
   "cell_type": "code",
   "execution_count": 18,
   "metadata": {},
   "outputs": [
    {
     "data": {
      "text/html": [
       "<div>\n",
       "<style scoped>\n",
       "    .dataframe tbody tr th:only-of-type {\n",
       "        vertical-align: middle;\n",
       "    }\n",
       "\n",
       "    .dataframe tbody tr th {\n",
       "        vertical-align: top;\n",
       "    }\n",
       "\n",
       "    .dataframe thead th {\n",
       "        text-align: right;\n",
       "    }\n",
       "</style>\n",
       "<table border=\"1\" class=\"dataframe\">\n",
       "  <thead>\n",
       "    <tr style=\"text-align: right;\">\n",
       "      <th></th>\n",
       "      <th>TITLE</th>\n",
       "      <th>ARTIST</th>\n",
       "      <th>BPM</th>\n",
       "      <th>ENERGY</th>\n",
       "      <th>DANCE</th>\n",
       "      <th>LOUD</th>\n",
       "      <th>VALENCE</th>\n",
       "      <th>ACOUSTIC</th>\n",
       "      <th>POPULARITY</th>\n",
       "      <th>YEAR</th>\n",
       "      <th>DURATION</th>\n",
       "      <th>TARGET</th>\n",
       "    </tr>\n",
       "  </thead>\n",
       "  <tbody>\n",
       "    <tr>\n",
       "      <th>0</th>\n",
       "      <td>Where Is My Mind?</td>\n",
       "      <td>Pixies</td>\n",
       "      <td>81.0</td>\n",
       "      <td>44.0</td>\n",
       "      <td>51.0</td>\n",
       "      <td>-14.0</td>\n",
       "      <td>24.0</td>\n",
       "      <td>1.0</td>\n",
       "      <td>35.0</td>\n",
       "      <td>2004</td>\n",
       "      <td>229</td>\n",
       "      <td>1</td>\n",
       "    </tr>\n",
       "    <tr>\n",
       "      <th>1</th>\n",
       "      <td>Give Me Nurture</td>\n",
       "      <td>rei brown</td>\n",
       "      <td>97.0</td>\n",
       "      <td>34.0</td>\n",
       "      <td>65.0</td>\n",
       "      <td>-5.0</td>\n",
       "      <td>7.0</td>\n",
       "      <td>88.0</td>\n",
       "      <td>33.0</td>\n",
       "      <td>2016</td>\n",
       "      <td>89</td>\n",
       "      <td>1</td>\n",
       "    </tr>\n",
       "    <tr>\n",
       "      <th>2</th>\n",
       "      <td>Lullaby</td>\n",
       "      <td>Atlas Bound</td>\n",
       "      <td>73.0</td>\n",
       "      <td>38.0</td>\n",
       "      <td>73.0</td>\n",
       "      <td>-9.0</td>\n",
       "      <td>17.0</td>\n",
       "      <td>38.0</td>\n",
       "      <td>56.0</td>\n",
       "      <td>2016</td>\n",
       "      <td>220</td>\n",
       "      <td>1</td>\n",
       "    </tr>\n",
       "    <tr>\n",
       "      <th>3</th>\n",
       "      <td>Warm On A Cold Night</td>\n",
       "      <td>HONNE</td>\n",
       "      <td>83.0</td>\n",
       "      <td>61.0</td>\n",
       "      <td>34.0</td>\n",
       "      <td>-6.0</td>\n",
       "      <td>39.0</td>\n",
       "      <td>19.0</td>\n",
       "      <td>63.0</td>\n",
       "      <td>2016</td>\n",
       "      <td>262</td>\n",
       "      <td>1</td>\n",
       "    </tr>\n",
       "    <tr>\n",
       "      <th>4</th>\n",
       "      <td>Release You</td>\n",
       "      <td>Tom Misch</td>\n",
       "      <td>120.0</td>\n",
       "      <td>36.0</td>\n",
       "      <td>54.0</td>\n",
       "      <td>-13.0</td>\n",
       "      <td>20.0</td>\n",
       "      <td>33.0</td>\n",
       "      <td>53.0</td>\n",
       "      <td>2014</td>\n",
       "      <td>233</td>\n",
       "      <td>1</td>\n",
       "    </tr>\n",
       "  </tbody>\n",
       "</table>\n",
       "</div>"
      ],
      "text/plain": [
       "                  TITLE       ARTIST    BPM  ENERGY  DANCE  LOUD  VALENCE  \\\n",
       "0     Where Is My Mind?       Pixies   81.0    44.0   51.0 -14.0     24.0   \n",
       "1       Give Me Nurture    rei brown   97.0    34.0   65.0  -5.0      7.0   \n",
       "2               Lullaby  Atlas Bound   73.0    38.0   73.0  -9.0     17.0   \n",
       "3  Warm On A Cold Night        HONNE   83.0    61.0   34.0  -6.0     39.0   \n",
       "4           Release You    Tom Misch  120.0    36.0   54.0 -13.0     20.0   \n",
       "\n",
       "   ACOUSTIC  POPULARITY  YEAR  DURATION  TARGET  \n",
       "0       1.0        35.0  2004       229       1  \n",
       "1      88.0        33.0  2016        89       1  \n",
       "2      38.0        56.0  2016       220       1  \n",
       "3      19.0        63.0  2016       262       1  \n",
       "4      33.0        53.0  2014       233       1  "
      ]
     },
     "execution_count": 18,
     "metadata": {},
     "output_type": "execute_result"
    }
   ],
   "source": [
    "liked['TARGET'] = 1\n",
    "disliked['TARGET'] = 0\n",
    "combined = pd.concat([liked,disliked], ignore_index=True)\n",
    "combined.head()"
   ]
  },
  {
   "cell_type": "markdown",
   "metadata": {},
   "source": [
    "Here we are just importing packages from **scicit-learn** library."
   ]
  },
  {
   "cell_type": "code",
   "execution_count": 19,
   "metadata": {},
   "outputs": [],
   "source": [
    "from sklearn.neighbors import KNeighborsClassifier\n",
    "from sklearn.model_selection import train_test_split, cross_val_score\n",
    "from sklearn.linear_model import LogisticRegression\n",
    "from sklearn.metrics import accuracy_score"
   ]
  },
  {
   "cell_type": "markdown",
   "metadata": {},
   "source": [
    "Let's find how many liked and disliked songs we have."
   ]
  },
  {
   "cell_type": "code",
   "execution_count": 20,
   "metadata": {},
   "outputs": [
    {
     "name": "stdout",
     "output_type": "stream",
     "text": [
      "liked = 619 \n",
      "disliked = 529\n"
     ]
    }
   ],
   "source": [
    "len_liked=liked.shape[0]\n",
    "len_disliked=disliked.shape[0]\n",
    "\n",
    "print(\"liked =\",len_liked,\"\\ndisliked =\",len_disliked)"
   ]
  },
  {
   "cell_type": "markdown",
   "metadata": {},
   "source": [
    "We'll work with X and y (features and targets)."
   ]
  },
  {
   "cell_type": "code",
   "execution_count": 21,
   "metadata": {},
   "outputs": [],
   "source": [
    "X=combined[[\"BPM\",\"DANCE\",\"ENERGY\",\"LOUD\",\"VALENCE\",\"ACOUSTIC\",\"POPULARITY\"]]\n",
    "y=combined.TARGET"
   ]
  },
  {
   "cell_type": "markdown",
   "metadata": {},
   "source": [
    "Using train_test_split from sklearn, we divide our data into train and test."
   ]
  },
  {
   "cell_type": "code",
   "execution_count": 22,
   "metadata": {},
   "outputs": [
    {
     "name": "stdout",
     "output_type": "stream",
     "text": [
      "Features Training Set: (918, 7) Features Testing Set: (230, 7)\n",
      "Target Training Set: (918,) Target Testing Set: (230,)\n"
     ]
    }
   ],
   "source": [
    "X_train_im, X_test_im, y_train_im, y_test_im = train_test_split(X,y,test_size=0.2,random_state=42)\n",
    "print('Features Training Set:', X_train_im.shape, 'Features Testing Set:', X_test_im.shape)\n",
    "print('Target Training Set:', y_train_im.shape, 'Target Testing Set:', y_test_im.shape)"
   ]
  },
  {
   "cell_type": "markdown",
   "metadata": {},
   "source": [
    "We have more liked than disliked songs. Sometimes accuracy can increase if we rebalance the two classes."
   ]
  },
  {
   "cell_type": "code",
   "execution_count": 23,
   "metadata": {},
   "outputs": [
    {
     "name": "stdout",
     "output_type": "stream",
     "text": [
      "0    620\n",
      "1    619\n",
      "Name: TARGET, dtype: int64\n"
     ]
    }
   ],
   "source": [
    "df_minority = combined[combined.TARGET==0].sample(620, replace=True, random_state=12)\n",
    "\n",
    "balanced = pd.concat([df_minority, combined[combined.TARGET==1]])\n",
    "\n",
    "print(balanced.TARGET.value_counts())"
   ]
  },
  {
   "cell_type": "markdown",
   "metadata": {},
   "source": [
    "Again we want to separate X and y from each other, as well as divide data into train and test."
   ]
  },
  {
   "cell_type": "code",
   "execution_count": 24,
   "metadata": {},
   "outputs": [],
   "source": [
    "X_balanced = balanced[['BPM','ENERGY','DANCE','LOUD','VALENCE','ACOUSTIC','POPULARITY']]\n",
    "y_balanced = balanced['TARGET']"
   ]
  },
  {
   "cell_type": "code",
   "execution_count": 25,
   "metadata": {},
   "outputs": [
    {
     "name": "stdout",
     "output_type": "stream",
     "text": [
      "Features Training Set: (929, 7) Features Testing Set: (310, 7)\n",
      "Target Training Set: (929,) Target Testing Set: (310,)\n"
     ]
    }
   ],
   "source": [
    "X_train_bal, X_test_bal, y_train_bal, y_test_bal = train_test_split(X_balanced, y_balanced)\n",
    "print('Features Training Set:', X_train_bal.shape, 'Features Testing Set:', X_test_bal.shape)\n",
    "print('Target Training Set:', y_train_bal.shape, 'Target Testing Set:', y_test_bal.shape)"
   ]
  },
  {
   "cell_type": "markdown",
   "metadata": {},
   "source": [
    "Using KNeighborsClassifier() from sklearn we fit our X_train and y_train and evaluate our accuracy and save the result as **knn_accuracy**."
   ]
  },
  {
   "cell_type": "code",
   "execution_count": 26,
   "metadata": {},
   "outputs": [
    {
     "data": {
      "text/plain": [
       "0.7652173913043478"
      ]
     },
     "execution_count": 26,
     "metadata": {},
     "output_type": "execute_result"
    }
   ],
   "source": [
    "knn_accuracy=accuracy_score(y_test_im, KNeighborsClassifier().fit(X_train_im,y_train_im).predict(X_test_im))\n",
    "knn_accuracy"
   ]
  },
  {
   "cell_type": "markdown",
   "metadata": {},
   "source": [
    "Now we do the same thing as above but using LogisticRegression instead of K Nearest Neighbors and save the accuracy score in **logreg_accuracy**."
   ]
  },
  {
   "cell_type": "code",
   "execution_count": 27,
   "metadata": {},
   "outputs": [
    {
     "data": {
      "text/plain": [
       "0.782608695652174"
      ]
     },
     "execution_count": 27,
     "metadata": {},
     "output_type": "execute_result"
    }
   ],
   "source": [
    "logreg_accuracy=accuracy_score(y_test_im, LogisticRegression().fit(X_train_im,y_train_im).predict(X_test_im))\n",
    "logreg_accuracy"
   ]
  },
  {
   "cell_type": "markdown",
   "metadata": {},
   "source": [
    "Above we were working with unbalanced data, so below we repeat same thing for balanced data."
   ]
  },
  {
   "cell_type": "code",
   "execution_count": 28,
   "metadata": {},
   "outputs": [],
   "source": [
    "# KNN CLASSIFIER\n",
    "knn = KNeighborsClassifier()\n",
    "knn.fit(X_train_bal, y_train_bal)\n",
    "y_pred_knn = knn.predict(X_test_bal)\n",
    "knn_accuracy_bal = accuracy_score(y_test_bal, y_pred_knn)\n",
    "\n",
    "# LOGISTIC REGRESSION \n",
    "logreg = LogisticRegression()\n",
    "logreg.fit(X_train_bal, y_train_bal)\n",
    "y_pred_logreg = logreg.predict(X_test_bal)\n",
    "logreg_accuracy_bal = accuracy_score(y_test_bal, y_pred_logreg)\n"
   ]
  },
  {
   "cell_type": "markdown",
   "metadata": {},
   "source": [
    "Here, we create a table summarizing the accuracy results."
   ]
  },
  {
   "cell_type": "code",
   "execution_count": 29,
   "metadata": {},
   "outputs": [
    {
     "data": {
      "text/html": [
       "<div>\n",
       "<style scoped>\n",
       "    .dataframe tbody tr th:only-of-type {\n",
       "        vertical-align: middle;\n",
       "    }\n",
       "\n",
       "    .dataframe tbody tr th {\n",
       "        vertical-align: top;\n",
       "    }\n",
       "\n",
       "    .dataframe thead th {\n",
       "        text-align: right;\n",
       "    }\n",
       "</style>\n",
       "<table border=\"1\" class=\"dataframe\">\n",
       "  <thead>\n",
       "    <tr style=\"text-align: right;\">\n",
       "      <th></th>\n",
       "      <th>Classifier</th>\n",
       "      <th>Imbalanced</th>\n",
       "      <th>Resampled</th>\n",
       "    </tr>\n",
       "  </thead>\n",
       "  <tbody>\n",
       "    <tr>\n",
       "      <th>0</th>\n",
       "      <td>k-NN</td>\n",
       "      <td>76.52%</td>\n",
       "      <td>81.29%</td>\n",
       "    </tr>\n",
       "    <tr>\n",
       "      <th>1</th>\n",
       "      <td>Logistic Regression</td>\n",
       "      <td>78.26%</td>\n",
       "      <td>80.32%</td>\n",
       "    </tr>\n",
       "  </tbody>\n",
       "</table>\n",
       "</div>"
      ],
      "text/plain": [
       "            Classifier Imbalanced Resampled\n",
       "0                 k-NN     76.52%    81.29%\n",
       "1  Logistic Regression     78.26%    80.32%"
      ]
     },
     "execution_count": 29,
     "metadata": {},
     "output_type": "execute_result"
    }
   ],
   "source": [
    "accuracy = [('k-NN', '{:.2%}'.format(knn_accuracy), \n",
    "        '{:.2%}'.format(knn_accuracy_bal)),\n",
    "         ('Logistic Regression', '{:.2%}'.format(logreg_accuracy), \n",
    "          '{:.2%}'.format(logreg_accuracy_bal))]\n",
    "\n",
    "labels = ['Classifier', 'Imbalanced', 'Resampled']\n",
    "df = pd.DataFrame.from_records(accuracy, columns=labels)\n",
    "df"
   ]
  },
  {
   "cell_type": "markdown",
   "metadata": {},
   "source": [
    "# 2. Predicting Song Genre\n",
    "\n",
    "In this project, we are exploring songs. We'll be trying to predict each song's genre from its lyrics. In particular, For each song, our dataset tells us the frequency with which each of these words occurs in the song. All words have been converted to lowercase.\n",
    "\n",
    "All data we need is in `lyrics` table. **It may take up to a minute to load.**"
   ]
  },
  {
   "cell_type": "code",
   "execution_count": 30,
   "metadata": {},
   "outputs": [
    {
     "data": {
      "text/html": [
       "<div>\n",
       "<style scoped>\n",
       "    .dataframe tbody tr th:only-of-type {\n",
       "        vertical-align: middle;\n",
       "    }\n",
       "\n",
       "    .dataframe tbody tr th {\n",
       "        vertical-align: top;\n",
       "    }\n",
       "\n",
       "    .dataframe thead th {\n",
       "        text-align: right;\n",
       "    }\n",
       "</style>\n",
       "<table border=\"1\" class=\"dataframe\">\n",
       "  <thead>\n",
       "    <tr style=\"text-align: right;\">\n",
       "      <th></th>\n",
       "      <th>Title</th>\n",
       "      <th>Artist</th>\n",
       "      <th>Genre</th>\n",
       "      <th>i</th>\n",
       "      <th>the</th>\n",
       "      <th>you</th>\n",
       "      <th>to</th>\n",
       "      <th>and</th>\n",
       "      <th>a</th>\n",
       "      <th>me</th>\n",
       "      <th>...</th>\n",
       "      <th>writer</th>\n",
       "      <th>motivo</th>\n",
       "      <th>bake</th>\n",
       "      <th>insist</th>\n",
       "      <th>wel</th>\n",
       "      <th>santo</th>\n",
       "      <th>pe</th>\n",
       "      <th>gee</th>\n",
       "      <th>colleg</th>\n",
       "      <th>kad</th>\n",
       "    </tr>\n",
       "  </thead>\n",
       "  <tbody>\n",
       "    <tr>\n",
       "      <th>0</th>\n",
       "      <td>Slicker Than Your Average</td>\n",
       "      <td>Craig David</td>\n",
       "      <td>Hip-hop</td>\n",
       "      <td>0.049536</td>\n",
       "      <td>0.017028</td>\n",
       "      <td>0.035604</td>\n",
       "      <td>0.020124</td>\n",
       "      <td>0.007740</td>\n",
       "      <td>0.006192</td>\n",
       "      <td>0.058824</td>\n",
       "      <td>...</td>\n",
       "      <td>0.0</td>\n",
       "      <td>0.0</td>\n",
       "      <td>0.0</td>\n",
       "      <td>0.0</td>\n",
       "      <td>0</td>\n",
       "      <td>0.0</td>\n",
       "      <td>0.0</td>\n",
       "      <td>0.0</td>\n",
       "      <td>0.0</td>\n",
       "      <td>0</td>\n",
       "    </tr>\n",
       "    <tr>\n",
       "      <th>1</th>\n",
       "      <td>Right There</td>\n",
       "      <td>MF Grimm</td>\n",
       "      <td>Hip-hop</td>\n",
       "      <td>0.037825</td>\n",
       "      <td>0.054374</td>\n",
       "      <td>0.023641</td>\n",
       "      <td>0.049645</td>\n",
       "      <td>0.009456</td>\n",
       "      <td>0.016548</td>\n",
       "      <td>0.018913</td>\n",
       "      <td>...</td>\n",
       "      <td>0.0</td>\n",
       "      <td>0.0</td>\n",
       "      <td>0.0</td>\n",
       "      <td>0.0</td>\n",
       "      <td>0</td>\n",
       "      <td>0.0</td>\n",
       "      <td>0.0</td>\n",
       "      <td>0.0</td>\n",
       "      <td>0.0</td>\n",
       "      <td>0</td>\n",
       "    </tr>\n",
       "    <tr>\n",
       "      <th>2</th>\n",
       "      <td>Talkin' All That</td>\n",
       "      <td>Cashis</td>\n",
       "      <td>Hip-hop</td>\n",
       "      <td>0.056738</td>\n",
       "      <td>0.049645</td>\n",
       "      <td>0.051418</td>\n",
       "      <td>0.010638</td>\n",
       "      <td>0.026596</td>\n",
       "      <td>0.033688</td>\n",
       "      <td>0.007092</td>\n",
       "      <td>...</td>\n",
       "      <td>0.0</td>\n",
       "      <td>0.0</td>\n",
       "      <td>0.0</td>\n",
       "      <td>0.0</td>\n",
       "      <td>0</td>\n",
       "      <td>0.0</td>\n",
       "      <td>0.0</td>\n",
       "      <td>0.0</td>\n",
       "      <td>0.0</td>\n",
       "      <td>0</td>\n",
       "    </tr>\n",
       "    <tr>\n",
       "      <th>3</th>\n",
       "      <td>It Only Hurts Me When I Cry</td>\n",
       "      <td>Raul Malo</td>\n",
       "      <td>Country</td>\n",
       "      <td>0.096491</td>\n",
       "      <td>0.074561</td>\n",
       "      <td>0.030702</td>\n",
       "      <td>0.017544</td>\n",
       "      <td>0.026316</td>\n",
       "      <td>0.017544</td>\n",
       "      <td>0.021930</td>\n",
       "      <td>...</td>\n",
       "      <td>0.0</td>\n",
       "      <td>0.0</td>\n",
       "      <td>0.0</td>\n",
       "      <td>0.0</td>\n",
       "      <td>0</td>\n",
       "      <td>0.0</td>\n",
       "      <td>0.0</td>\n",
       "      <td>0.0</td>\n",
       "      <td>0.0</td>\n",
       "      <td>0</td>\n",
       "    </tr>\n",
       "    <tr>\n",
       "      <th>4</th>\n",
       "      <td>Is It Too Late Now</td>\n",
       "      <td>Lester Flatt &amp; Earl Scruggs</td>\n",
       "      <td>Country</td>\n",
       "      <td>0.043902</td>\n",
       "      <td>0.000000</td>\n",
       "      <td>0.073171</td>\n",
       "      <td>0.019512</td>\n",
       "      <td>0.000000</td>\n",
       "      <td>0.014634</td>\n",
       "      <td>0.034146</td>\n",
       "      <td>...</td>\n",
       "      <td>0.0</td>\n",
       "      <td>0.0</td>\n",
       "      <td>0.0</td>\n",
       "      <td>0.0</td>\n",
       "      <td>0</td>\n",
       "      <td>0.0</td>\n",
       "      <td>0.0</td>\n",
       "      <td>0.0</td>\n",
       "      <td>0.0</td>\n",
       "      <td>0</td>\n",
       "    </tr>\n",
       "  </tbody>\n",
       "</table>\n",
       "<p>5 rows × 4979 columns</p>\n",
       "</div>"
      ],
      "text/plain": [
       "                         Title                       Artist    Genre  \\\n",
       "0    Slicker Than Your Average                  Craig David  Hip-hop   \n",
       "1                  Right There                     MF Grimm  Hip-hop   \n",
       "2             Talkin' All That                       Cashis  Hip-hop   \n",
       "3  It Only Hurts Me When I Cry                    Raul Malo  Country   \n",
       "4           Is It Too Late Now  Lester Flatt & Earl Scruggs  Country   \n",
       "\n",
       "          i       the       you        to       and         a        me ...   \\\n",
       "0  0.049536  0.017028  0.035604  0.020124  0.007740  0.006192  0.058824 ...    \n",
       "1  0.037825  0.054374  0.023641  0.049645  0.009456  0.016548  0.018913 ...    \n",
       "2  0.056738  0.049645  0.051418  0.010638  0.026596  0.033688  0.007092 ...    \n",
       "3  0.096491  0.074561  0.030702  0.017544  0.026316  0.017544  0.021930 ...    \n",
       "4  0.043902  0.000000  0.073171  0.019512  0.000000  0.014634  0.034146 ...    \n",
       "\n",
       "   writer  motivo  bake  insist  wel  santo   pe  gee  colleg  kad  \n",
       "0     0.0     0.0   0.0     0.0    0    0.0  0.0  0.0     0.0    0  \n",
       "1     0.0     0.0   0.0     0.0    0    0.0  0.0  0.0     0.0    0  \n",
       "2     0.0     0.0   0.0     0.0    0    0.0  0.0  0.0     0.0    0  \n",
       "3     0.0     0.0   0.0     0.0    0    0.0  0.0  0.0     0.0    0  \n",
       "4     0.0     0.0   0.0     0.0    0    0.0  0.0  0.0     0.0    0  \n",
       "\n",
       "[5 rows x 4979 columns]"
      ]
     },
     "execution_count": 30,
     "metadata": {},
     "output_type": "execute_result"
    }
   ],
   "source": [
    "lyrics = pd.read_csv('lyrics.csv')\n",
    "lyrics.head()"
   ]
  },
  {
   "cell_type": "markdown",
   "metadata": {},
   "source": [
    "Let's find some song"
   ]
  },
  {
   "cell_type": "code",
   "execution_count": 31,
   "metadata": {},
   "outputs": [
    {
     "data": {
      "text/html": [
       "<div>\n",
       "<style scoped>\n",
       "    .dataframe tbody tr th:only-of-type {\n",
       "        vertical-align: middle;\n",
       "    }\n",
       "\n",
       "    .dataframe tbody tr th {\n",
       "        vertical-align: top;\n",
       "    }\n",
       "\n",
       "    .dataframe thead th {\n",
       "        text-align: right;\n",
       "    }\n",
       "</style>\n",
       "<table border=\"1\" class=\"dataframe\">\n",
       "  <thead>\n",
       "    <tr style=\"text-align: right;\">\n",
       "      <th></th>\n",
       "      <th>Title</th>\n",
       "      <th>Artist</th>\n",
       "      <th>Genre</th>\n",
       "      <th>i</th>\n",
       "      <th>the</th>\n",
       "      <th>you</th>\n",
       "      <th>to</th>\n",
       "      <th>and</th>\n",
       "      <th>a</th>\n",
       "      <th>me</th>\n",
       "      <th>...</th>\n",
       "      <th>writer</th>\n",
       "      <th>motivo</th>\n",
       "      <th>bake</th>\n",
       "      <th>insist</th>\n",
       "      <th>wel</th>\n",
       "      <th>santo</th>\n",
       "      <th>pe</th>\n",
       "      <th>gee</th>\n",
       "      <th>colleg</th>\n",
       "      <th>kad</th>\n",
       "    </tr>\n",
       "  </thead>\n",
       "  <tbody>\n",
       "    <tr>\n",
       "      <th>1677</th>\n",
       "      <td>In Your Eyes</td>\n",
       "      <td>Alison Krauss</td>\n",
       "      <td>Country</td>\n",
       "      <td>0.107143</td>\n",
       "      <td>0.0</td>\n",
       "      <td>0.029762</td>\n",
       "      <td>0.0</td>\n",
       "      <td>0.035714</td>\n",
       "      <td>0.029762</td>\n",
       "      <td>0.035714</td>\n",
       "      <td>...</td>\n",
       "      <td>0.0</td>\n",
       "      <td>0.0</td>\n",
       "      <td>0.0</td>\n",
       "      <td>0.0</td>\n",
       "      <td>0</td>\n",
       "      <td>0.0</td>\n",
       "      <td>0.0</td>\n",
       "      <td>0.0</td>\n",
       "      <td>0.0</td>\n",
       "      <td>0</td>\n",
       "    </tr>\n",
       "  </tbody>\n",
       "</table>\n",
       "<p>1 rows × 4979 columns</p>\n",
       "</div>"
      ],
      "text/plain": [
       "             Title         Artist    Genre         i  the       you   to  \\\n",
       "1677  In Your Eyes  Alison Krauss  Country  0.107143  0.0  0.029762  0.0   \n",
       "\n",
       "           and         a        me ...   writer  motivo  bake  insist  wel  \\\n",
       "1677  0.035714  0.029762  0.035714 ...      0.0     0.0   0.0     0.0    0   \n",
       "\n",
       "      santo   pe  gee  colleg  kad  \n",
       "1677    0.0  0.0  0.0     0.0    0  \n",
       "\n",
       "[1 rows x 4979 columns]"
      ]
     },
     "execution_count": 31,
     "metadata": {},
     "output_type": "execute_result"
    }
   ],
   "source": [
    "lyrics[lyrics[\"Title\"]==\"In Your Eyes\"]"
   ]
  },
  {
   "cell_type": "markdown",
   "metadata": {},
   "source": [
    "That cell prints a few columns of the row for the country song [\"In Your Eyes\" by Alison Krauss](http://www.azlyrics.com/lyrics/alisonkrauss/inyoureyes.html).  The song contains 168 words. The word \"like\" appears twice:  $\\frac{2}{168} \\approx 0.0119$ of the words in the song. The word \"love\" appears 10 times: $\\frac{10}{168} \\approx 0.0595$ of the words. The word \"the\" doesn't appear at all.\n",
    "\n",
    "Our dataset doesn't contain all information about a song.  For example, it doesn't describe the order of words in the song, let alone the melody, instruments, or rhythm. Nonetheless, we may find that word frequencies alone are sufficient to build an accurate genre classifier."
   ]
  },
  {
   "cell_type": "markdown",
   "metadata": {},
   "source": [
    "All song titles are unique. The `row_title` function and `column_title` function provides fast access to the one row for each title. "
   ]
  },
  {
   "cell_type": "code",
   "execution_count": 32,
   "metadata": {},
   "outputs": [],
   "source": [
    "def row_title(title):\n",
    "    return lyrics[lyrics[\"Title\"]==title]"
   ]
  },
  {
   "cell_type": "code",
   "execution_count": 33,
   "metadata": {},
   "outputs": [],
   "source": [
    "def column_title(title, column):\n",
    "    return np.array(lyrics[lyrics[\"Title\"]==title][column])[0]"
   ]
  },
  {
   "cell_type": "markdown",
   "metadata": {},
   "source": [
    "For example, the fastest way to find the frequency of \"love\" in the song *Right THere* is to access the `'love'` column element with column_title function."
   ]
  },
  {
   "cell_type": "code",
   "execution_count": 34,
   "metadata": {},
   "outputs": [
    {
     "data": {
      "text/plain": [
       "0.0"
      ]
     },
     "execution_count": 34,
     "metadata": {},
     "output_type": "execute_result"
    }
   ],
   "source": [
    "column_title(\"Right There\", \"love\")"
   ]
  },
  {
   "cell_type": "markdown",
   "metadata": {},
   "source": [
    "Using train_test_split function in sklearn we split the data into train and test."
   ]
  },
  {
   "cell_type": "code",
   "execution_count": 35,
   "metadata": {},
   "outputs": [
    {
     "name": "stdout",
     "output_type": "stream",
     "text": [
      "Training:  1376 ; Test:  345\n"
     ]
    }
   ],
   "source": [
    "X_train, X_test, y_train, y_test = train_test_split(lyrics,lyrics[\"Genre\"],test_size=0.2)\n",
    "print(\"Training: \",   X_train.shape[0], \";\",\n",
    "      \"Test: \",       X_test.shape[0])"
   ]
  },
  {
   "cell_type": "markdown",
   "metadata": {},
   "source": [
    "We write a function to compute the Euclidean distance between two **arrays** of features of *arbitrary* (but equal) length."
   ]
  },
  {
   "cell_type": "code",
   "execution_count": 36,
   "metadata": {},
   "outputs": [],
   "source": [
    "def distance(features1, features2):\n",
    "    \"\"\"The Euclidean distance between two arrays of feature values.\"\"\"\n",
    "    return np.sum((features1-features2)**2)**0.5"
   ]
  },
  {
   "cell_type": "markdown",
   "metadata": {},
   "source": [
    "We choose 20 words that we think might let us distinguish between hiphop and country songs."
   ]
  },
  {
   "cell_type": "code",
   "execution_count": 37,
   "metadata": {},
   "outputs": [],
   "source": [
    "my_20_features = [\"yesterday\",\"today\",\"peace\",\"hey\",\"help\",\"mind\",\"ya\",\"face\",\"!\",\"i don't\",\"wanna\",\"someday\",\"a\",\"la\"]\n",
    "\n",
    "train_20 = X_train.loc[:, X_train.columns.isin(my_20_features)]\n",
    "test_20 = X_test.loc[:, X_test.columns.isin(my_20_features)]"
   ]
  },
  {
   "cell_type": "markdown",
   "metadata": {},
   "source": [
    "Using our train_20 and cross validation, we fit a model using KNeighborsClassifier()."
   ]
  },
  {
   "cell_type": "code",
   "execution_count": 38,
   "metadata": {},
   "outputs": [
    {
     "data": {
      "text/plain": [
       "0.6811594202898551"
      ]
     },
     "execution_count": 38,
     "metadata": {},
     "output_type": "execute_result"
    }
   ],
   "source": [
    "knn = KNeighborsClassifier()\n",
    "knn.fit(train_20, y_train)\n",
    "y_pred_knn = knn.predict(test_20)\n",
    "knn_accuracy_bal = accuracy_score(y_test, y_pred_knn)\n",
    "knn_accuracy_bal"
   ]
  },
  {
   "cell_type": "markdown",
   "metadata": {},
   "source": [
    "Using our train_20 and cross validation, we fit a model using LogisticRegression()."
   ]
  },
  {
   "cell_type": "code",
   "execution_count": 39,
   "metadata": {},
   "outputs": [
    {
     "data": {
      "text/plain": [
       "0.5130434782608696"
      ]
     },
     "execution_count": 39,
     "metadata": {},
     "output_type": "execute_result"
    }
   ],
   "source": [
    "logreg = LogisticRegression()\n",
    "logreg.fit(train_20, y_train)\n",
    "y_pred_logreg = logreg.predict(test_20)\n",
    "logreg_bal = accuracy_score(y_test, y_pred_logreg)\n",
    "logreg_bal"
   ]
  }
 ],
 "metadata": {
  "kernelspec": {
   "display_name": "Python 3",
   "language": "python",
   "name": "python3"
  },
  "language_info": {
   "codemirror_mode": {
    "name": "ipython",
    "version": 3
   },
   "file_extension": ".py",
   "mimetype": "text/x-python",
   "name": "python",
   "nbconvert_exporter": "python",
   "pygments_lexer": "ipython3",
   "version": "3.6.5"
  }
 },
 "nbformat": 4,
 "nbformat_minor": 1
}
